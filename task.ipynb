{
 "cells": [
  {
   "cell_type": "code",
   "execution_count": 1,
   "metadata": {
    "collapsed": true
   },
   "outputs": [],
   "source": [
    "import numpy as np\n",
    "import pandas as pd\n",
    "import matplotlib.pyplot as plt\n",
    "import torch\n",
    "import torch.nn as nn\n",
    "from torch.autograd import Variable\n",
    "import torchvision\n",
    "import torchvision.transforms as transforms\n",
    "from torch.utils.data import Dataset, DataLoader\n",
    "from sklearn.metrics import confusion_matrix"
   ]
  },
  {
   "cell_type": "code",
   "execution_count": 7,
   "outputs": [],
   "source": [
    "# import os\n",
    "# i=0\n",
    "# for filename in os.listdir('D:\\数据科学\\\\test_daa\\data'):\n",
    "#     filenames=filename.split('.')\n",
    "#     new_filename = filenames[0]+'.jpg'\n",
    "#     os.rename(os.path.join('D:\\数据科学\\\\test_daa\\data', filename), os.path.join('D:\\数据科学\\\\test_daa\\data', new_filename))\n",
    "#     i+=1"
   ],
   "metadata": {
    "collapsed": false
   }
  },
  {
   "cell_type": "code",
   "execution_count": 47,
   "outputs": [],
   "source": [
    "# import os\n",
    "#\n",
    "# for filename in os.listdir('D:\\数据科学\\\\test\\\\first\\\\6-15'):\n",
    "#     new_filename ='15_'+filename.split(\" \")[1]\n",
    "#     new_filename = new_filename.replace(\"(\", \"\").replace(\")\", \"\")\n",
    "#     os.rename(os.path.join('D:\\数据科学\\\\test\\\\first\\\\6-15', filename), os.path.join('D:\\数据科学\\\\test\\\\first\\\\6-15', new_filename))\n"
   ],
   "metadata": {
    "collapsed": false
   }
  },
  {
   "cell_type": "code",
   "execution_count": 19,
   "outputs": [],
   "source": [
    "# import random\n",
    "# import pandas as pd\n",
    "# import os\n",
    "# file1=[]\n",
    "# file2=[]\n",
    "# file3=[]\n",
    "# i=1\n",
    "# for filename in os.listdir('D:\\数据科学\\\\test_daa\\data'):\n",
    "#     if i%2==1:\n",
    "#         file1.append(filename)\n",
    "#     else:\n",
    "#         file2.append(filename)\n",
    "#     i+=1\n",
    "#\n",
    "# file3 = random.sample(file2, len(file1))\n",
    "# label1=[1 for i in range(len(file2))]\n",
    "# label0=[0 for i in range(len(file3))]\n",
    "# df1 = pd.DataFrame({\"couple1\": file1, \"couple2\": file2,'label1':label1})\n",
    "# df2 = pd.DataFrame({\"couple1\": file1, \"couple2\": file3,'label1':label0})\n",
    "# df = pd.concat([df1, df2], ignore_index=True)\n",
    "# df = df.sample(frac=1)\n",
    "# df.to_csv('test_data.csv')"
   ],
   "metadata": {
    "collapsed": false
   }
  },
  {
   "cell_type": "code",
   "execution_count": 11,
   "outputs": [],
   "source": [
    "def sort_files_by_number(file_list):\n",
    "    # 提取文件名中的数字部分并排序\n",
    "    sorted_files = sorted(file_list, key=lambda x: int(x.split('_')[1].split('.')[0]))\n",
    "    return sorted_files\n",
    "sorted_files = sort_files_by_number(files)\n",
    "print(f\"按顺序排列的文件列表：{sorted_files}\")"
   ],
   "metadata": {
    "collapsed": false
   }
  },
  {
   "cell_type": "code",
   "execution_count": 77,
   "outputs": [],
   "source": [
    "first=[]\n",
    "second=[]\n",
    "third=[]\n",
    "label0=[]\n",
    "label1=[]\n",
    "import random\n",
    "for i in range(0,len(sorted_files)-1):\n",
    "    if int(sorted_files[i].split('_')[1].split('.')[0]) %2==1:\n",
    "        first.append(sorted_files[i])\n",
    "        second.append(sorted_files[i+1])\n",
    "        try:\n",
    "            third.append(sorted_files[i-1])\n",
    "        except:\n",
    "            third.append(sorted_files[i+2])\n",
    "        label1.append(1)\n",
    "        label0.append(0)"
   ],
   "metadata": {
    "collapsed": false
   }
  },
  {
   "cell_type": "code",
   "execution_count": 78,
   "outputs": [
    {
     "name": "stdout",
     "output_type": "stream",
     "text": [
      "        couple1     couple2        diff  label1  label0\n",
      "0    1_1099.jpg  1_1100.jpg  1_1354.jpg       1       0\n",
      "1    1_1101.jpg  1_1102.jpg  1_1100.jpg       1       0\n",
      "2    1_1103.jpg  1_1104.jpg  1_1102.jpg       1       0\n",
      "3    1_1105.jpg  1_1106.jpg  1_1104.jpg       1       0\n",
      "4    1_1107.jpg  1_1108.jpg  1_1106.jpg       1       0\n",
      "..          ...         ...         ...     ...     ...\n",
      "123  1_1345.jpg  1_1346.jpg  1_1344.jpg       1       0\n",
      "124  1_1347.jpg  1_1348.jpg  1_1346.jpg       1       0\n",
      "125  1_1349.jpg  1_1350.jpg  1_1348.jpg       1       0\n",
      "126  1_1351.jpg  1_1352.jpg  1_1350.jpg       1       0\n",
      "127  1_1353.jpg  1_1354.jpg  1_1352.jpg       1       0\n",
      "\n",
      "[128 rows x 5 columns]\n"
     ]
    }
   ],
   "source": [
    "df_from_lists = pd.DataFrame({'couple1': first, 'couple2': second,'diff':third,'label1':label1,'label0':label0})\n",
    "print(df_from_lists)\n",
    "df_from_lists.to_csv('2.csv')"
   ],
   "metadata": {
    "collapsed": false
   }
  },
  {
   "cell_type": "code",
   "execution_count": 75,
   "outputs": [
    {
     "data": {
      "text/plain": "['1_1099.jpg',\n '1_1100.jpg',\n '1_1101.jpg',\n '1_1102.jpg',\n '1_1103.jpg',\n '1_1104.jpg',\n '1_1105.jpg',\n '1_1106.jpg',\n '1_1107.jpg',\n '1_1108.jpg',\n '1_1109.jpg',\n '1_1110.jpg',\n '1_1111.jpg',\n '1_1112.jpg',\n '1_1113.jpg',\n '1_1114.jpg',\n '1_1115.jpg',\n '1_1116.jpg',\n '1_1117.jpg',\n '1_1118.jpg',\n '1_1119.jpg',\n '1_1120.jpg',\n '1_1121.jpg',\n '1_1122.jpg',\n '1_1123.jpg',\n '1_1124.jpg',\n '1_1125.jpg',\n '1_1126.jpg',\n '1_1127.jpg',\n '1_1128.jpg',\n '1_1129.jpg',\n '1_1130.jpg',\n '1_1131.jpg',\n '1_1132.jpg',\n '1_1133.jpg',\n '1_1134.jpg',\n '1_1135.jpg',\n '1_1136.jpg',\n '1_1137.jpg',\n '1_1138.jpg',\n '1_1139.jpg',\n '1_1140.jpg',\n '1_1141.jpg',\n '1_1142.jpg',\n '1_1143.jpg',\n '1_1144.jpg',\n '1_1145.jpg',\n '1_1146.jpg',\n '1_1147.jpg',\n '1_1148.jpg',\n '1_1149.jpg',\n '1_1150.jpg',\n '1_1151.jpg',\n '1_1152.jpg',\n '1_1153.jpg',\n '1_1154.jpg',\n '1_1155.jpg',\n '1_1156.jpg',\n '1_1157.jpg',\n '1_1158.jpg',\n '1_1159.jpg',\n '1_1160.jpg',\n '1_1161.jpg',\n '1_1162.jpg',\n '1_1163.jpg',\n '1_1164.jpg',\n '1_1165.jpg',\n '1_1166.jpg',\n '1_1167.jpg',\n '1_1168.jpg',\n '1_1169.jpg',\n '1_1170.jpg',\n '1_1171.jpg',\n '1_1172.jpg',\n '1_1173.jpg',\n '1_1174.jpg',\n '1_1175.jpg',\n '1_1176.jpg',\n '1_1177.jpg',\n '1_1178.jpg',\n '1_1179.jpg',\n '1_1180.jpg',\n '1_1181.jpg',\n '1_1182.jpg',\n '1_1183.jpg',\n '1_1184.jpg',\n '1_1185.jpg',\n '1_1186.jpg',\n '1_1187.jpg',\n '1_1188.jpg',\n '1_1189.jpg',\n '1_1190.jpg',\n '1_1191.jpg',\n '1_1192.jpg',\n '1_1193.jpg',\n '1_1194.jpg',\n '1_1195.jpg',\n '1_1196.jpg',\n '1_1197.jpg',\n '1_1198.jpg',\n '1_1199.jpg',\n '1_1200.jpg',\n '1_1201.jpg',\n '1_1202.jpg',\n '1_1203.jpg',\n '1_1204.jpg',\n '1_1205.jpg',\n '1_1206.jpg',\n '1_1207.jpg',\n '1_1208.jpg',\n '1_1209.jpg',\n '1_1210.jpg',\n '1_1211.jpg',\n '1_1212.jpg',\n '1_1213.jpg',\n '1_1214.jpg',\n '1_1215.jpg',\n '1_1216.jpg',\n '1_1217.jpg',\n '1_1218.jpg',\n '1_1219.jpg',\n '1_1220.jpg',\n '1_1221.jpg',\n '1_1222.jpg',\n '1_1223.jpg',\n '1_1224.jpg',\n '1_1225.jpg',\n '1_1226.jpg',\n '1_1227.jpg',\n '1_1228.jpg',\n '1_1229.jpg',\n '1_1230.jpg',\n '1_1231.jpg',\n '1_1232.jpg',\n '1_1233.jpg',\n '1_1234.jpg',\n '1_1235.jpg',\n '1_1236.jpg',\n '1_1237.jpg',\n '1_1238.jpg',\n '1_1239.jpg',\n '1_1240.jpg',\n '1_1241.jpg',\n '1_1242.jpg',\n '1_1243.jpg',\n '1_1244.jpg',\n '1_1245.jpg',\n '1_1246.jpg',\n '1_1247.jpg',\n '1_1248.jpg',\n '1_1249.jpg',\n '1_1250.jpg',\n '1_1251.jpg',\n '1_1252.jpg',\n '1_1253.jpg',\n '1_1254.jpg',\n '1_1255.jpg',\n '1_1256.jpg',\n '1_1257.jpg',\n '1_1258.jpg',\n '1_1259.jpg',\n '1_1260.jpg',\n '1_1261.jpg',\n '1_1262.jpg',\n '1_1263.jpg',\n '1_1264.jpg',\n '1_1265.jpg',\n '1_1266.jpg',\n '1_1267.jpg',\n '1_1268.jpg',\n '1_1269.jpg',\n '1_1270.jpg',\n '1_1271.jpg',\n '1_1272.jpg',\n '1_1273.jpg',\n '1_1274.jpg',\n '1_1275.jpg',\n '1_1276.jpg',\n '1_1277.jpg',\n '1_1278.jpg',\n '1_1279.jpg',\n '1_1280.jpg',\n '1_1281.jpg',\n '1_1282.jpg',\n '1_1283.jpg',\n '1_1284.jpg',\n '1_1285.jpg',\n '1_1286.jpg',\n '1_1287.jpg',\n '1_1288.jpg',\n '1_1289.jpg',\n '1_1290.jpg',\n '1_1291.jpg',\n '1_1292.jpg',\n '1_1293.jpg',\n '1_1294.jpg',\n '1_1295.jpg',\n '1_1296.jpg',\n '1_1297.jpg',\n '1_1298.jpg',\n '1_1299.jpg',\n '1_1300.jpg',\n '1_1301.jpg',\n '1_1302.jpg',\n '1_1303.jpg',\n '1_1304.jpg',\n '1_1305.jpg',\n '1_1306.jpg',\n '1_1307.jpg',\n '1_1308.jpg',\n '1_1309.jpg',\n '1_1310.jpg',\n '1_1311.jpg',\n '1_1312.jpg',\n '1_1313.jpg',\n '1_1314.jpg',\n '1_1315.jpg',\n '1_1316.jpg',\n '1_1317.jpg',\n '1_1318.jpg',\n '1_1319.jpg',\n '1_1320.jpg',\n '1_1321.jpg',\n '1_1322.jpg',\n '1_1323.jpg',\n '1_1324.jpg',\n '1_1325.jpg',\n '1_1326.jpg',\n '1_1327.jpg',\n '1_1328.jpg',\n '1_1329.jpg',\n '1_1330.jpg',\n '1_1331.jpg',\n '1_1332.jpg',\n '1_1333.jpg',\n '1_1334.jpg',\n '1_1335.jpg',\n '1_1336.jpg',\n '1_1337.jpg',\n '1_1338.jpg',\n '1_1339.jpg',\n '1_1340.jpg',\n '1_1341.jpg',\n '1_1342.jpg',\n '1_1343.jpg',\n '1_1344.jpg',\n '1_1345.jpg',\n '1_1346.jpg',\n '1_1347.jpg',\n '1_1348.jpg',\n '1_1349.jpg',\n '1_1350.jpg',\n '1_1351.jpg',\n '1_1352.jpg',\n '1_1353.jpg',\n '1_1354.jpg']"
     },
     "execution_count": 75,
     "metadata": {},
     "output_type": "execute_result"
    }
   ],
   "source": [
    "import os\n",
    "files = os.listdir('D:\\数据科学\\\\test\\\\first\\\\6-1')\n",
    "files"
   ],
   "metadata": {
    "collapsed": false
   }
  },
  {
   "cell_type": "code",
   "execution_count": 113,
   "outputs": [],
   "source": [
    "import pandas as pd\n",
    "tab=pd.read_csv('test.csv')\n",
    "fir=pd.read_csv('1.csv')\n",
    "sec=pd.read_csv('2.csv')\n",
    "thr=pd.read_csv('15.csv')\n",
    "fou=pd.read_csv('14.csv')\n",
    "result = pd.concat([tab,fir, sec, thr, fou], ignore_index=True)\n",
    "\n",
    "result = result.drop(columns=['Unnamed: 0'])\n",
    "\n",
    "\n",
    "df_new = result[['couple1', 'diff','label0']]\n",
    "result = result.drop(columns=['diff','label0'])\n",
    "df_new.columns = ['couple1', 'couple2', 'label1']\n",
    "df = pd.concat([result, df_new], axis=0)\n",
    "df = df.sample(frac=1, replace=True)\n",
    "df.to_csv('train.csv')"
   ],
   "metadata": {
    "collapsed": false
   }
  },
  {
   "cell_type": "code",
   "execution_count": 114,
   "outputs": [
    {
     "data": {
      "text/plain": "        couple1     couple2  label1\n304  15_783.jpg  15_782.jpg       0\n8        22.jpg      23.jpg       1\n528  14_663.jpg  14_664.jpg       1\n434  14_475.jpg  14_474.jpg       0\n326  15_827.jpg  15_828.jpg       1\n..          ...         ...     ...\n22   2_1384.jpg  2_1385.jpg       1\n49   2_1438.jpg  2_1437.jpg       0\n2        12.jpg      15.jpg       0\n329  15_833.jpg  15_834.jpg       1\n441  14_489.jpg  14_488.jpg       0\n\n[1122 rows x 3 columns]",
      "text/html": "<div>\n<style scoped>\n    .dataframe tbody tr th:only-of-type {\n        vertical-align: middle;\n    }\n\n    .dataframe tbody tr th {\n        vertical-align: top;\n    }\n\n    .dataframe thead th {\n        text-align: right;\n    }\n</style>\n<table border=\"1\" class=\"dataframe\">\n  <thead>\n    <tr style=\"text-align: right;\">\n      <th></th>\n      <th>couple1</th>\n      <th>couple2</th>\n      <th>label1</th>\n    </tr>\n  </thead>\n  <tbody>\n    <tr>\n      <th>304</th>\n      <td>15_783.jpg</td>\n      <td>15_782.jpg</td>\n      <td>0</td>\n    </tr>\n    <tr>\n      <th>8</th>\n      <td>22.jpg</td>\n      <td>23.jpg</td>\n      <td>1</td>\n    </tr>\n    <tr>\n      <th>528</th>\n      <td>14_663.jpg</td>\n      <td>14_664.jpg</td>\n      <td>1</td>\n    </tr>\n    <tr>\n      <th>434</th>\n      <td>14_475.jpg</td>\n      <td>14_474.jpg</td>\n      <td>0</td>\n    </tr>\n    <tr>\n      <th>326</th>\n      <td>15_827.jpg</td>\n      <td>15_828.jpg</td>\n      <td>1</td>\n    </tr>\n    <tr>\n      <th>...</th>\n      <td>...</td>\n      <td>...</td>\n      <td>...</td>\n    </tr>\n    <tr>\n      <th>22</th>\n      <td>2_1384.jpg</td>\n      <td>2_1385.jpg</td>\n      <td>1</td>\n    </tr>\n    <tr>\n      <th>49</th>\n      <td>2_1438.jpg</td>\n      <td>2_1437.jpg</td>\n      <td>0</td>\n    </tr>\n    <tr>\n      <th>2</th>\n      <td>12.jpg</td>\n      <td>15.jpg</td>\n      <td>0</td>\n    </tr>\n    <tr>\n      <th>329</th>\n      <td>15_833.jpg</td>\n      <td>15_834.jpg</td>\n      <td>1</td>\n    </tr>\n    <tr>\n      <th>441</th>\n      <td>14_489.jpg</td>\n      <td>14_488.jpg</td>\n      <td>0</td>\n    </tr>\n  </tbody>\n</table>\n<p>1122 rows × 3 columns</p>\n</div>"
     },
     "execution_count": 114,
     "metadata": {},
     "output_type": "execute_result"
    }
   ],
   "source": [
    "df"
   ],
   "metadata": {
    "collapsed": false
   }
  },
  {
   "cell_type": "code",
   "execution_count": 42,
   "outputs": [
    {
     "name": "stdout",
     "output_type": "stream",
     "text": [
      "15\n",
      "4\n",
      "7\n",
      "14\n",
      "26\n",
      "26\n",
      "1\n",
      "19\n",
      "15\n",
      "11\n",
      "15\n",
      "5\n",
      "26\n",
      "15\n"
     ]
    }
   ],
   "source": [
    "first=[]\n",
    "second=[]\n",
    "third=[]\n",
    "label0=[]\n",
    "label1=[]\n",
    "import random\n",
    "number = random.randint(1, len(files)-1)\n",
    "for i in range(len(files)):\n",
    "    if i <(len(files)-1):\n",
    "        number = random.randint(1, len(files))\n",
    "        if int(files[0].split('.')[0].split('_')[1])%2==0:\n",
    "            first.append(files[i])\n",
    "            tamp=files[i].split('.')\n",
    "            tamp[0]=str(int(tamp[0])+1)\n",
    "            new_str = \".\".join(tamp)\n",
    "            second.append(new_str)\n",
    "            print(number)\n",
    "            third.append(files[number])\n",
    "            label0.append(0)\n",
    "            label1.append(1)"
   ],
   "metadata": {
    "collapsed": false
   }
  },
  {
   "cell_type": "code",
   "execution_count": 44,
   "outputs": [
    {
     "name": "stdout",
     "output_type": "stream",
     "text": [
      "   couple1 couple2    diff  label1  label0\n",
      "0    0.jpg   1.jpg  22.jpg       1       0\n",
      "1   10.jpg  11.jpg  12.jpg       1       0\n",
      "2   12.jpg  13.jpg  15.jpg       1       0\n",
      "3   14.jpg  15.jpg  21.jpg       1       0\n",
      "4   16.jpg  17.jpg   8.jpg       1       0\n",
      "5   18.jpg  19.jpg   8.jpg       1       0\n",
      "6    2.jpg   3.jpg   1.jpg       1       0\n",
      "7   20.jpg  21.jpg  26.jpg       1       0\n",
      "8   22.jpg  23.jpg  22.jpg       1       0\n",
      "9   24.jpg  25.jpg  19.jpg       1       0\n",
      "10  26.jpg  27.jpg  22.jpg       1       0\n",
      "11   4.jpg   5.jpg  13.jpg       1       0\n",
      "12   6.jpg   7.jpg   8.jpg       1       0\n",
      "13   8.jpg   9.jpg  22.jpg       1       0\n"
     ]
    }
   ],
   "source": [
    "df_from_lists = pd.DataFrame({'couple1': first, 'couple2': second,'diff':third,'label1':label1,'label0':label0})\n",
    "print(df_from_lists)\n",
    "df_from_lists.to_csv('test.csv')"
   ],
   "metadata": {
    "collapsed": false
   }
  },
  {
   "cell_type": "code",
   "execution_count": 8,
   "outputs": [],
   "source": [
    "DATA_PATH='D:\\数据科学\\\\1'"
   ],
   "metadata": {
    "collapsed": false
   }
  },
  {
   "cell_type": "code",
   "execution_count": 20,
   "outputs": [],
   "source": [
    "from PIL import Image\n",
    "from transformers import AutoImageProcessor, ViTModel\n",
    "import torch\n",
    "\n",
    "# image = 'D:\\pythonProject6\\deep_learning\\A _0_.jpg'\n",
    "# image1 = 'D:\\pythonProject6\\deep_learning\\A _1_.jpg'\n",
    "# img = Image.open(image).convert(\"RGB\")\n",
    "# img1 = Image.open(image1).convert(\"RGB\")\n",
    "# image_processor = AutoImageProcessor.from_pretrained(\"google/vit-base-patch16-224-in21k\")\n",
    "# model = ViTModel.from_pretrained(\"google/vit-base-patch16-224-in21k\")\n",
    "#\n",
    "# inputs = image_processor(img, return_tensors=\"pt\")\n",
    "# inputs1 = image_processor(img1, return_tensors=\"pt\")\n",
    "# print(inputs['pixel_values'].shape)\n",
    "#\n",
    "# with torch.no_grad():\n",
    "#     outputs = model(inputs['pixel_values'])\n",
    "#     last_hidden_states = outputs.pooler_output\n",
    "#     outputs = model(inputs1['pixel_values'])\n",
    "#     last_hidden_states1 = outputs.pooler_output\n",
    "#     a=torch.concat((last_hidden_states,last_hidden_states1),dim=1)\n",
    "#     print(outputs.last_hidden_state.shape)\n",
    "#\n",
    "# print(a.shape)\n",
    "\n"
   ],
   "metadata": {
    "collapsed": false
   }
  },
  {
   "cell_type": "code",
   "execution_count": 22,
   "outputs": [],
   "source": [
    "from torch.utils.data import Dataset, DataLoader\n",
    "class AppleDataset(Dataset):\n",
    "    \"\"\"User defined class to build a datset using Pytorch class Dataset.\"\"\"\n",
    "    def __init__(self, file,data_path):\n",
    "        \"\"\"Method to initilaize variables.\"\"\"\n",
    "        self.data=pd.read_csv(file)\n",
    "        self.data_path=data_path\n",
    "        self.image_processor = AutoImageProcessor.from_pretrained(\"google/vit-base-patch16-224-in21k\")\n",
    "    def __getitem__(self, index):\n",
    "        feature1,feature2,label=self.data['couple1'][index],self.data['couple2'][index],self.data['label1'][index]\n",
    "        img_path = os.path.join(self.data_path, feature1)\n",
    "        img_path1 = os.path.join(self.data_path, feature2)\n",
    "        img = Image.open(img_path).convert(\"RGB\")\n",
    "        img1 = Image.open(img_path1).convert(\"RGB\")\n",
    "        x = self.image_processor(img, return_tensors=\"pt\")\n",
    "        y = self.image_processor(img1, return_tensors=\"pt\")\n",
    "        return x['pixel_values'], y['pixel_values'],label\n",
    "    def __len__(self):\n",
    "        return len(self.data)"
   ],
   "metadata": {
    "collapsed": false
   }
  },
  {
   "cell_type": "code",
   "execution_count": 24,
   "outputs": [],
   "source": [
    "train_set = AppleDataset('train.csv', DATA_PATH)\n",
    "train_loader = DataLoader(train_set, batch_size=10)\n",
    "test_set=AppleDataset('test_data.csv', DATA_PATH)\n",
    "test_loader = DataLoader(train_set, batch_size=10)"
   ],
   "metadata": {
    "collapsed": false
   }
  },
  {
   "cell_type": "code",
   "execution_count": 25,
   "outputs": [
    {
     "name": "stdout",
     "output_type": "stream",
     "text": [
      "<class 'torch.Tensor'> <class 'torch.Tensor'> <class 'torch.Tensor'>\n",
      "torch.Size([10])\n",
      "tensor([0, 1, 1, 0, 1, 1, 0, 0, 0, 1])\n"
     ]
    }
   ],
   "source": [
    "import os\n",
    "batch = next(iter(train_loader))\n",
    "image0,image1, labels = batch\n",
    "print(type(image0), type(image1),type(labels))\n",
    "print(labels.shape)\n",
    "print(labels)"
   ],
   "metadata": {
    "collapsed": false
   }
  },
  {
   "cell_type": "code",
   "execution_count": 26,
   "outputs": [
    {
     "name": "stdout",
     "output_type": "stream",
     "text": [
      "torch.Size([4, 8, 16])\n",
      "Shape of the final output: torch.Size([4, 8, 16])\n"
     ]
    }
   ],
   "source": [
    "import torch.nn as nn\n",
    "import torch.nn.functional as F\n",
    "from moe import SparseMoE\n",
    "class VIT_Couple(nn.Module):\n",
    "    def __init__(self, pretrained=False):\n",
    "        super(VIT_Couple, self).__init__()\n",
    "        self.model=ViTModel.from_pretrained(\"google/vit-base-patch16-224-in21k\")\n",
    "        self.fc2 = nn.Linear(768, 100)\n",
    "        self.fc3 = nn.Linear(100, 2)\n",
    "        self.fc1 = nn.Linear(302592, 768)\n",
    "        self.sparse_moe = SparseMoE(768, 3, 2)\n",
    "        self.dropout = nn.Dropout(p=0.2)\n",
    "    def forward(self,x,y):\n",
    "        x=x.view(x.shape[0],x.shape[2],x.shape[3],x.shape[4])#3,3,224,224\n",
    "        y=y.view(y.shape[0],y.shape[2],y.shape[3],y.shape[4])\n",
    "        x = self.model(x).last_hidden_state\n",
    "\n",
    "        y = self.model(y).last_hidden_state\n",
    "        pos=torch.concat((x,y),dim=1)\n",
    "        pos=pos.view(pos.shape[0],-1)\n",
    "        pos=self.fc1(pos)\n",
    "        pos = self.dropout(pos)\n",
    "        pos = F.relu(pos)\n",
    "        pos=self.fc2(pos)\n",
    "        pos = self.dropout(pos)\n",
    "        pos = F.relu(pos)\n",
    "        pos=self.fc3(pos)\n",
    "        return pos"
   ],
   "metadata": {
    "collapsed": false
   }
  },
  {
   "cell_type": "code",
   "execution_count": 27,
   "outputs": [],
   "source": [
    "def train(model, train_loader, optimizer, epoch):\n",
    "    model.train()\n",
    "    for batch_idx, (data1,data2, labels) in enumerate(train_loader):\n",
    "        data1 = data1.to('cuda')\n",
    "        data2 = data2.to('cuda')\n",
    "        labels = labels.to('cuda')\n",
    "        outputs = model(data1,data2)\n",
    "        # 计算损失\n",
    "        loss = F.cross_entropy(outputs, labels)\n",
    "        # 反向传播\n",
    "        optimizer.zero_grad()\n",
    "        loss.backward()\n",
    "        # 更新参数\n",
    "        optimizer.step()\n",
    "        # 打印训练信息\n",
    "        if batch_idx % 1 == 0:\n",
    "            print('Epoch: {}, Batch: {}, Loss: {:.4f}'.format(\n",
    "                epoch, batch_idx, loss.item()))"
   ],
   "metadata": {
    "collapsed": false
   }
  },
  {
   "cell_type": "code",
   "execution_count": 28,
   "outputs": [],
   "source": [
    "def test(model, test_loader):\n",
    "    model.eval()\n",
    "    correct = 0\n",
    "    total = 0\n",
    "    with torch.no_grad():\n",
    "        for data, labels in test_loader:\n",
    "            # 将数据和标签移动到 GPU\n",
    "            data = data.to('cuda')\n",
    "            labels = labels.to('cuda')\n",
    "\n",
    "            # 预测\n",
    "            outputs = model(data)\n",
    "\n",
    "            # 计算准确率\n",
    "            _, predicted = torch.max(outputs.data, 1)\n",
    "            total += labels.size(0)\n",
    "            correct += (predicted == labels).sum().item()\n",
    "\n",
    "    print('Accuracy: {:.2f}%'.format(100 * correct / total))"
   ],
   "metadata": {
    "collapsed": false
   }
  },
  {
   "cell_type": "code",
   "execution_count": 29,
   "outputs": [
    {
     "name": "stdout",
     "output_type": "stream",
     "text": [
      "Epoch: 0, Batch: 0, Loss: 0.6977\n",
      "Epoch: 0, Batch: 1, Loss: 0.6969\n",
      "Epoch: 0, Batch: 2, Loss: 0.7123\n",
      "Epoch: 0, Batch: 3, Loss: 0.6844\n",
      "Epoch: 0, Batch: 4, Loss: 0.6650\n",
      "Epoch: 0, Batch: 5, Loss: 0.7124\n",
      "Epoch: 0, Batch: 6, Loss: 0.7055\n",
      "Epoch: 0, Batch: 7, Loss: 0.6684\n",
      "Epoch: 0, Batch: 8, Loss: 0.6442\n",
      "Epoch: 0, Batch: 9, Loss: 0.6068\n",
      "Epoch: 0, Batch: 10, Loss: 0.6497\n",
      "Epoch: 0, Batch: 11, Loss: 0.6578\n",
      "Epoch: 0, Batch: 12, Loss: 0.6498\n",
      "Epoch: 0, Batch: 13, Loss: 0.7519\n",
      "Epoch: 0, Batch: 14, Loss: 0.6604\n",
      "Epoch: 0, Batch: 15, Loss: 0.6103\n",
      "Epoch: 0, Batch: 16, Loss: 0.7848\n",
      "Epoch: 0, Batch: 17, Loss: 0.7368\n",
      "Epoch: 0, Batch: 18, Loss: 0.7424\n",
      "Epoch: 0, Batch: 19, Loss: 0.6861\n",
      "Epoch: 0, Batch: 20, Loss: 0.7293\n",
      "Epoch: 0, Batch: 21, Loss: 0.6602\n",
      "Epoch: 0, Batch: 22, Loss: 0.6974\n",
      "Epoch: 0, Batch: 23, Loss: 0.7197\n",
      "Epoch: 0, Batch: 24, Loss: 0.7026\n",
      "Epoch: 0, Batch: 25, Loss: 0.6760\n",
      "Epoch: 0, Batch: 26, Loss: 0.6462\n",
      "Epoch: 0, Batch: 27, Loss: 0.7282\n",
      "Epoch: 0, Batch: 28, Loss: 0.6965\n",
      "Epoch: 0, Batch: 29, Loss: 0.7273\n",
      "Epoch: 0, Batch: 30, Loss: 0.6526\n",
      "Epoch: 0, Batch: 31, Loss: 0.6900\n",
      "Epoch: 0, Batch: 32, Loss: 0.6992\n",
      "Epoch: 0, Batch: 33, Loss: 0.7254\n",
      "Epoch: 0, Batch: 34, Loss: 0.6724\n",
      "Epoch: 0, Batch: 35, Loss: 0.6690\n",
      "Epoch: 0, Batch: 36, Loss: 0.7320\n",
      "Epoch: 0, Batch: 37, Loss: 0.7202\n",
      "Epoch: 0, Batch: 38, Loss: 0.6846\n",
      "Epoch: 0, Batch: 39, Loss: 0.6954\n",
      "Epoch: 0, Batch: 40, Loss: 0.7153\n",
      "Epoch: 0, Batch: 41, Loss: 0.6717\n",
      "Epoch: 0, Batch: 42, Loss: 0.6660\n",
      "Epoch: 0, Batch: 43, Loss: 0.6753\n",
      "Epoch: 0, Batch: 44, Loss: 0.7269\n",
      "Epoch: 0, Batch: 45, Loss: 0.7045\n",
      "Epoch: 0, Batch: 46, Loss: 0.7068\n",
      "Epoch: 0, Batch: 47, Loss: 0.6900\n",
      "Epoch: 0, Batch: 48, Loss: 0.6700\n",
      "Epoch: 0, Batch: 49, Loss: 0.7145\n",
      "Epoch: 0, Batch: 50, Loss: 0.6675\n",
      "Epoch: 0, Batch: 51, Loss: 0.6697\n",
      "Epoch: 0, Batch: 52, Loss: 0.7235\n",
      "Epoch: 0, Batch: 53, Loss: 0.7025\n",
      "Epoch: 0, Batch: 54, Loss: 0.6888\n",
      "Epoch: 0, Batch: 55, Loss: 0.6623\n",
      "Epoch: 0, Batch: 56, Loss: 0.6786\n",
      "Epoch: 0, Batch: 57, Loss: 0.7143\n",
      "Epoch: 0, Batch: 58, Loss: 0.6922\n",
      "Epoch: 0, Batch: 59, Loss: 0.6839\n",
      "Epoch: 0, Batch: 60, Loss: 0.6982\n",
      "Epoch: 0, Batch: 61, Loss: 0.6815\n",
      "Epoch: 0, Batch: 62, Loss: 0.7218\n",
      "Epoch: 0, Batch: 63, Loss: 0.6752\n",
      "Epoch: 0, Batch: 64, Loss: 0.6913\n",
      "Epoch: 0, Batch: 65, Loss: 0.6980\n",
      "Epoch: 0, Batch: 66, Loss: 0.6974\n",
      "Epoch: 0, Batch: 67, Loss: 0.7041\n",
      "Epoch: 0, Batch: 68, Loss: 0.6965\n",
      "Epoch: 0, Batch: 69, Loss: 0.6993\n",
      "Epoch: 0, Batch: 70, Loss: 0.6977\n",
      "Epoch: 0, Batch: 71, Loss: 0.6818\n",
      "Epoch: 0, Batch: 72, Loss: 0.6611\n",
      "Epoch: 0, Batch: 73, Loss: 0.6998\n",
      "Epoch: 0, Batch: 74, Loss: 0.6850\n",
      "Epoch: 0, Batch: 75, Loss: 0.6855\n",
      "Epoch: 0, Batch: 76, Loss: 0.6894\n",
      "Epoch: 0, Batch: 77, Loss: 0.7012\n",
      "Epoch: 0, Batch: 78, Loss: 0.7056\n",
      "Epoch: 0, Batch: 79, Loss: 0.6816\n",
      "Epoch: 0, Batch: 80, Loss: 0.6613\n",
      "Epoch: 0, Batch: 81, Loss: 0.7001\n",
      "Epoch: 0, Batch: 82, Loss: 0.6615\n",
      "Epoch: 0, Batch: 83, Loss: 0.7318\n",
      "Epoch: 0, Batch: 84, Loss: 0.6801\n",
      "Epoch: 0, Batch: 85, Loss: 0.6919\n",
      "Epoch: 0, Batch: 86, Loss: 0.6828\n",
      "Epoch: 0, Batch: 87, Loss: 0.6502\n",
      "Epoch: 0, Batch: 88, Loss: 0.6746\n",
      "Epoch: 0, Batch: 89, Loss: 0.6872\n",
      "Epoch: 0, Batch: 90, Loss: 0.7318\n",
      "Epoch: 0, Batch: 91, Loss: 0.6932\n",
      "Epoch: 0, Batch: 92, Loss: 0.6567\n",
      "Epoch: 0, Batch: 93, Loss: 0.6809\n",
      "Epoch: 0, Batch: 94, Loss: 0.6964\n",
      "Epoch: 0, Batch: 95, Loss: 0.7007\n",
      "Epoch: 0, Batch: 96, Loss: 0.7074\n",
      "Epoch: 0, Batch: 97, Loss: 0.6518\n",
      "Epoch: 0, Batch: 98, Loss: 0.6979\n",
      "Epoch: 0, Batch: 99, Loss: 0.6448\n",
      "Epoch: 0, Batch: 100, Loss: 0.6998\n",
      "Epoch: 0, Batch: 101, Loss: 0.7068\n",
      "Epoch: 0, Batch: 102, Loss: 0.6942\n",
      "Epoch: 0, Batch: 103, Loss: 0.6866\n",
      "Epoch: 0, Batch: 104, Loss: 0.7023\n",
      "Epoch: 0, Batch: 105, Loss: 0.7194\n",
      "Epoch: 0, Batch: 106, Loss: 0.6683\n",
      "Epoch: 0, Batch: 107, Loss: 0.7067\n",
      "Epoch: 0, Batch: 108, Loss: 0.6980\n",
      "Epoch: 0, Batch: 109, Loss: 0.6906\n",
      "Epoch: 0, Batch: 110, Loss: 0.6858\n",
      "Epoch: 0, Batch: 111, Loss: 0.6758\n",
      "Epoch: 0, Batch: 112, Loss: 0.7068\n",
      "Epoch: 1, Batch: 0, Loss: 0.6409\n",
      "Epoch: 1, Batch: 1, Loss: 0.6511\n",
      "Epoch: 1, Batch: 2, Loss: 0.6527\n",
      "Epoch: 1, Batch: 3, Loss: 0.6247\n",
      "Epoch: 1, Batch: 4, Loss: 0.6344\n",
      "Epoch: 1, Batch: 5, Loss: 0.6307\n",
      "Epoch: 1, Batch: 6, Loss: 0.6446\n",
      "Epoch: 1, Batch: 7, Loss: 0.6637\n",
      "Epoch: 1, Batch: 8, Loss: 0.5759\n",
      "Epoch: 1, Batch: 9, Loss: 0.5331\n",
      "Epoch: 1, Batch: 10, Loss: 0.6087\n",
      "Epoch: 1, Batch: 11, Loss: 0.5837\n",
      "Epoch: 1, Batch: 12, Loss: 0.5728\n",
      "Epoch: 1, Batch: 13, Loss: 0.6987\n",
      "Epoch: 1, Batch: 14, Loss: 0.5944\n",
      "Epoch: 1, Batch: 15, Loss: 0.5481\n",
      "Epoch: 1, Batch: 16, Loss: 0.7130\n",
      "Epoch: 1, Batch: 17, Loss: 0.6862\n",
      "Epoch: 1, Batch: 18, Loss: 0.6682\n",
      "Epoch: 1, Batch: 19, Loss: 0.6421\n",
      "Epoch: 1, Batch: 20, Loss: 0.6855\n",
      "Epoch: 1, Batch: 21, Loss: 0.6349\n",
      "Epoch: 1, Batch: 22, Loss: 0.6507\n",
      "Epoch: 1, Batch: 23, Loss: 0.6967\n",
      "Epoch: 1, Batch: 24, Loss: 0.6315\n",
      "Epoch: 1, Batch: 25, Loss: 0.6561\n",
      "Epoch: 1, Batch: 26, Loss: 0.5992\n",
      "Epoch: 1, Batch: 27, Loss: 0.6760\n",
      "Epoch: 1, Batch: 28, Loss: 0.6654\n",
      "Epoch: 1, Batch: 29, Loss: 0.7164\n",
      "Epoch: 1, Batch: 30, Loss: 0.5913\n",
      "Epoch: 1, Batch: 31, Loss: 0.6472\n",
      "Epoch: 1, Batch: 32, Loss: 0.6434\n",
      "Epoch: 1, Batch: 33, Loss: 0.6622\n",
      "Epoch: 1, Batch: 34, Loss: 0.6196\n",
      "Epoch: 1, Batch: 35, Loss: 0.6117\n",
      "Epoch: 1, Batch: 36, Loss: 0.6569\n",
      "Epoch: 1, Batch: 37, Loss: 0.7116\n",
      "Epoch: 1, Batch: 38, Loss: 0.6681\n",
      "Epoch: 1, Batch: 39, Loss: 0.6521\n",
      "Epoch: 1, Batch: 40, Loss: 0.6646\n",
      "Epoch: 1, Batch: 41, Loss: 0.6350\n",
      "Epoch: 1, Batch: 42, Loss: 0.6368\n",
      "Epoch: 1, Batch: 43, Loss: 0.6280\n",
      "Epoch: 1, Batch: 44, Loss: 0.7045\n",
      "Epoch: 1, Batch: 45, Loss: 0.6348\n",
      "Epoch: 1, Batch: 46, Loss: 0.6571\n",
      "Epoch: 1, Batch: 47, Loss: 0.6411\n",
      "Epoch: 1, Batch: 48, Loss: 0.6103\n",
      "Epoch: 1, Batch: 49, Loss: 0.6557\n",
      "Epoch: 1, Batch: 50, Loss: 0.6138\n",
      "Epoch: 1, Batch: 51, Loss: 0.5954\n",
      "Epoch: 1, Batch: 52, Loss: 0.6491\n",
      "Epoch: 1, Batch: 53, Loss: 0.6734\n",
      "Epoch: 1, Batch: 54, Loss: 0.7134\n",
      "Epoch: 1, Batch: 55, Loss: 0.6002\n",
      "Epoch: 1, Batch: 56, Loss: 0.6643\n",
      "Epoch: 1, Batch: 57, Loss: 0.6759\n",
      "Epoch: 1, Batch: 58, Loss: 0.6721\n",
      "Epoch: 1, Batch: 59, Loss: 0.6632\n",
      "Epoch: 1, Batch: 60, Loss: 0.6694\n",
      "Epoch: 1, Batch: 61, Loss: 0.6361\n",
      "Epoch: 1, Batch: 62, Loss: 0.6905\n",
      "Epoch: 1, Batch: 63, Loss: 0.6287\n",
      "Epoch: 1, Batch: 64, Loss: 0.6078\n",
      "Epoch: 1, Batch: 65, Loss: 0.6747\n",
      "Epoch: 1, Batch: 66, Loss: 0.6746\n",
      "Epoch: 1, Batch: 67, Loss: 0.6915\n",
      "Epoch: 1, Batch: 68, Loss: 0.6740\n",
      "Epoch: 1, Batch: 69, Loss: 0.7520\n",
      "Epoch: 1, Batch: 70, Loss: 0.6526\n",
      "Epoch: 1, Batch: 71, Loss: 0.6629\n",
      "Epoch: 1, Batch: 72, Loss: 0.5876\n",
      "Epoch: 1, Batch: 73, Loss: 0.6289\n",
      "Epoch: 1, Batch: 74, Loss: 0.6410\n",
      "Epoch: 1, Batch: 75, Loss: 0.6198\n",
      "Epoch: 1, Batch: 76, Loss: 0.6796\n",
      "Epoch: 1, Batch: 77, Loss: 0.6916\n",
      "Epoch: 1, Batch: 78, Loss: 0.6691\n",
      "Epoch: 1, Batch: 79, Loss: 0.6212\n",
      "Epoch: 1, Batch: 80, Loss: 0.6121\n",
      "Epoch: 1, Batch: 81, Loss: 0.6806\n",
      "Epoch: 1, Batch: 82, Loss: 0.5899\n",
      "Epoch: 1, Batch: 83, Loss: 0.7291\n",
      "Epoch: 1, Batch: 84, Loss: 0.6419\n",
      "Epoch: 1, Batch: 85, Loss: 0.6402\n",
      "Epoch: 1, Batch: 86, Loss: 0.6383\n",
      "Epoch: 1, Batch: 87, Loss: 0.5899\n",
      "Epoch: 1, Batch: 88, Loss: 0.6011\n",
      "Epoch: 1, Batch: 89, Loss: 0.6306\n",
      "Epoch: 1, Batch: 90, Loss: 0.7086\n",
      "Epoch: 1, Batch: 91, Loss: 0.6408\n",
      "Epoch: 1, Batch: 92, Loss: 0.6156\n",
      "Epoch: 1, Batch: 93, Loss: 0.5901\n",
      "Epoch: 1, Batch: 94, Loss: 0.6630\n",
      "Epoch: 1, Batch: 95, Loss: 0.6838\n",
      "Epoch: 1, Batch: 96, Loss: 0.7221\n",
      "Epoch: 1, Batch: 97, Loss: 0.5935\n",
      "Epoch: 1, Batch: 98, Loss: 0.6649\n",
      "Epoch: 1, Batch: 99, Loss: 0.5686\n",
      "Epoch: 1, Batch: 100, Loss: 0.6831\n",
      "Epoch: 1, Batch: 101, Loss: 0.6954\n",
      "Epoch: 1, Batch: 102, Loss: 0.6819\n",
      "Epoch: 1, Batch: 103, Loss: 0.6534\n",
      "Epoch: 1, Batch: 104, Loss: 0.6498\n",
      "Epoch: 1, Batch: 105, Loss: 0.7095\n",
      "Epoch: 1, Batch: 106, Loss: 0.6358\n",
      "Epoch: 1, Batch: 107, Loss: 0.6603\n",
      "Epoch: 1, Batch: 108, Loss: 0.6638\n",
      "Epoch: 1, Batch: 109, Loss: 0.6281\n",
      "Epoch: 1, Batch: 110, Loss: 0.6044\n",
      "Epoch: 1, Batch: 111, Loss: 0.6620\n",
      "Epoch: 1, Batch: 112, Loss: 0.6745\n"
     ]
    }
   ],
   "source": [
    "model=VIT_Couple().to('cuda')\n",
    "# 定义优化器\n",
    "optimizer = torch.optim.SGD(model.parameters(), lr=0.01)\n",
    "for epoch in range(2):\n",
    "    train(model, train_loader, optimizer, epoch)"
   ],
   "metadata": {
    "collapsed": false
   }
  },
  {
   "cell_type": "code",
   "execution_count": 30,
   "outputs": [],
   "source": [
    "def test(model, test_loader):\n",
    "    model.eval()\n",
    "    correct = 0\n",
    "    total = 0\n",
    "    with torch.no_grad():\n",
    "        for data, data1,labels in test_loader:\n",
    "            # 将数据和标签移动到 GPU\n",
    "            data = data.to('cuda')\n",
    "            data1 = data1.to('cuda')\n",
    "            labels = labels.to('cuda')\n",
    "            # 预测\n",
    "            outputs = model(data,data1)\n",
    "            # 计算准确率\n",
    "            _, predicted = torch.max(outputs.data, 1)\n",
    "            total += labels.size(0)\n",
    "            correct += (predicted == labels).sum().item()\n",
    "\n",
    "    print('Accuracy: {:.2f}%'.format(100 * correct / total))"
   ],
   "metadata": {
    "collapsed": false
   }
  },
  {
   "cell_type": "code",
   "execution_count": 31,
   "outputs": [
    {
     "name": "stdout",
     "output_type": "stream",
     "text": [
      "Accuracy: 81.73%\n"
     ]
    }
   ],
   "source": [
    "test(model, test_loader)"
   ],
   "metadata": {
    "collapsed": false
   }
  },
  {
   "cell_type": "code",
   "execution_count": 116,
   "outputs": [
    {
     "name": "stdout",
     "output_type": "stream",
     "text": [
      "torch.Size([3, 394, 768])\n"
     ]
    }
   ],
   "source": [
    "from moe import SparseMoE\n",
    "mh_output = torch.randn(3, 394, 768)  # Example multi-head attention output\n",
    "sparse_moe = SparseMoE(768, 3, 2)\n",
    "final_output = sparse_moe(mh_output)\n",
    "print(final_output.shape)"
   ],
   "metadata": {
    "collapsed": false
   }
  },
  {
   "cell_type": "code",
   "execution_count": 129,
   "outputs": [
    {
     "name": "stdout",
     "output_type": "stream",
     "text": [
      "Epoch: 0, Batch: 0, Loss: 0.6847\n",
      "Epoch: 0, Batch: 1, Loss: 0.6943\n",
      "Epoch: 0, Batch: 2, Loss: 0.7038\n",
      "Epoch: 0, Batch: 3, Loss: 0.6849\n",
      "Epoch: 0, Batch: 4, Loss: 0.6756\n",
      "Epoch: 0, Batch: 5, Loss: 0.7036\n",
      "Epoch: 0, Batch: 6, Loss: 0.6942\n",
      "Epoch: 0, Batch: 7, Loss: 0.6756\n",
      "Epoch: 0, Batch: 8, Loss: 0.6919\n",
      "Epoch: 0, Batch: 9, Loss: 0.6558\n",
      "Epoch: 0, Batch: 10, Loss: 0.6742\n",
      "Epoch: 0, Batch: 11, Loss: 0.6839\n",
      "Epoch: 0, Batch: 12, Loss: 0.6722\n",
      "Epoch: 0, Batch: 13, Loss: 0.7188\n",
      "Epoch: 0, Batch: 14, Loss: 0.6703\n",
      "Epoch: 0, Batch: 15, Loss: 0.6566\n",
      "Epoch: 0, Batch: 16, Loss: 0.7225\n",
      "Epoch: 0, Batch: 17, Loss: 0.7235\n",
      "Epoch: 0, Batch: 18, Loss: 0.7098\n",
      "Epoch: 0, Batch: 19, Loss: 0.6957\n",
      "Epoch: 0, Batch: 20, Loss: 0.7385\n",
      "Epoch: 0, Batch: 21, Loss: 0.6651\n",
      "Epoch: 0, Batch: 22, Loss: 0.6816\n",
      "Epoch: 0, Batch: 23, Loss: 0.7095\n",
      "Epoch: 0, Batch: 24, Loss: 0.6955\n",
      "Epoch: 0, Batch: 25, Loss: 0.6682\n",
      "Epoch: 0, Batch: 26, Loss: 0.6545\n",
      "Epoch: 0, Batch: 27, Loss: 0.7233\n",
      "Epoch: 0, Batch: 28, Loss: 0.6955\n",
      "Epoch: 0, Batch: 29, Loss: 0.7094\n",
      "Epoch: 0, Batch: 30, Loss: 0.6681\n",
      "Epoch: 0, Batch: 31, Loss: 0.6980\n",
      "Epoch: 0, Batch: 32, Loss: 0.7092\n",
      "Epoch: 0, Batch: 33, Loss: 0.7499\n",
      "Epoch: 0, Batch: 34, Loss: 0.6822\n",
      "Epoch: 0, Batch: 35, Loss: 0.6654\n",
      "Epoch: 0, Batch: 36, Loss: 0.7455\n",
      "Epoch: 0, Batch: 37, Loss: 0.6994\n",
      "Epoch: 0, Batch: 38, Loss: 0.6832\n",
      "Epoch: 0, Batch: 39, Loss: 0.6835\n",
      "Epoch: 0, Batch: 40, Loss: 0.7164\n",
      "Epoch: 0, Batch: 41, Loss: 0.6841\n",
      "Epoch: 0, Batch: 42, Loss: 0.6812\n",
      "Epoch: 0, Batch: 43, Loss: 0.6783\n",
      "Epoch: 0, Batch: 44, Loss: 0.6943\n",
      "Epoch: 0, Batch: 45, Loss: 2.7880\n",
      "Epoch: 0, Batch: 46, Loss: 0.6942\n",
      "Epoch: 0, Batch: 47, Loss: 0.6941\n",
      "Epoch: 0, Batch: 48, Loss: 0.6683\n",
      "Epoch: 0, Batch: 49, Loss: 0.7036\n",
      "Epoch: 0, Batch: 50, Loss: 0.6858\n",
      "Epoch: 0, Batch: 51, Loss: 1.1395\n",
      "Epoch: 0, Batch: 52, Loss: 0.7250\n",
      "Epoch: 0, Batch: 53, Loss: 0.6947\n",
      "Epoch: 0, Batch: 54, Loss: 0.7506\n",
      "Epoch: 0, Batch: 55, Loss: 0.6938\n",
      "Epoch: 0, Batch: 56, Loss: 0.6869\n",
      "Epoch: 0, Batch: 57, Loss: 0.7072\n",
      "Epoch: 0, Batch: 58, Loss: 0.6937\n",
      "Epoch: 0, Batch: 59, Loss: 0.7007\n",
      "Epoch: 0, Batch: 60, Loss: 0.6997\n",
      "Epoch: 0, Batch: 61, Loss: 0.7205\n",
      "Epoch: 0, Batch: 62, Loss: 0.7083\n",
      "Epoch: 0, Batch: 63, Loss: 0.6838\n",
      "Epoch: 0, Batch: 64, Loss: 0.6979\n",
      "Epoch: 0, Batch: 65, Loss: 0.6975\n",
      "Epoch: 0, Batch: 66, Loss: 0.6933\n",
      "Epoch: 0, Batch: 67, Loss: 0.6900\n",
      "Epoch: 0, Batch: 68, Loss: 0.6933\n",
      "Epoch: 0, Batch: 69, Loss: 0.6904\n",
      "Epoch: 0, Batch: 70, Loss: 0.6467\n",
      "Epoch: 0, Batch: 71, Loss: 0.6836\n",
      "Epoch: 0, Batch: 72, Loss: 0.6957\n",
      "Epoch: 0, Batch: 73, Loss: 0.6948\n",
      "Epoch: 0, Batch: 74, Loss: 0.6324\n",
      "Epoch: 0, Batch: 75, Loss: 0.7992\n",
      "Epoch: 0, Batch: 76, Loss: 0.6872\n",
      "Epoch: 0, Batch: 77, Loss: 0.6949\n",
      "Epoch: 0, Batch: 78, Loss: 0.6963\n",
      "Epoch: 0, Batch: 79, Loss: 0.6907\n",
      "Epoch: 0, Batch: 80, Loss: 0.6898\n",
      "Epoch: 0, Batch: 81, Loss: 0.6932\n",
      "Epoch: 0, Batch: 82, Loss: 0.6944\n",
      "Epoch: 0, Batch: 83, Loss: 0.6918\n",
      "Epoch: 0, Batch: 84, Loss: 0.6904\n",
      "Epoch: 0, Batch: 85, Loss: 0.6916\n",
      "Epoch: 0, Batch: 86, Loss: 0.6932\n",
      "Epoch: 0, Batch: 87, Loss: 0.6849\n",
      "Epoch: 0, Batch: 88, Loss: 0.6906\n",
      "Epoch: 0, Batch: 89, Loss: 0.6901\n",
      "Epoch: 0, Batch: 90, Loss: 0.7010\n",
      "Epoch: 0, Batch: 91, Loss: 0.6892\n",
      "Epoch: 0, Batch: 92, Loss: 0.6843\n",
      "Epoch: 0, Batch: 93, Loss: 0.6884\n",
      "Epoch: 0, Batch: 94, Loss: 0.6879\n",
      "Epoch: 0, Batch: 95, Loss: 0.6999\n",
      "Epoch: 0, Batch: 96, Loss: 0.6937\n",
      "Epoch: 0, Batch: 97, Loss: 0.6868\n",
      "Epoch: 0, Batch: 98, Loss: 0.7012\n",
      "Epoch: 0, Batch: 99, Loss: 0.6786\n",
      "Epoch: 0, Batch: 100, Loss: 0.6859\n"
     ]
    },
    {
     "ename": "KeyboardInterrupt",
     "evalue": "",
     "output_type": "error",
     "traceback": [
      "\u001B[1;31m---------------------------------------------------------------------------\u001B[0m",
      "\u001B[1;31mKeyboardInterrupt\u001B[0m                         Traceback (most recent call last)",
      "Cell \u001B[1;32mIn[129], line 2\u001B[0m\n\u001B[0;32m      1\u001B[0m \u001B[38;5;28;01mfor\u001B[39;00m epoch \u001B[38;5;129;01min\u001B[39;00m \u001B[38;5;28mrange\u001B[39m(\u001B[38;5;241m5\u001B[39m):\n\u001B[1;32m----> 2\u001B[0m     \u001B[43mtrain\u001B[49m\u001B[43m(\u001B[49m\u001B[43mmodel\u001B[49m\u001B[43m,\u001B[49m\u001B[43m \u001B[49m\u001B[43mtrain_loader\u001B[49m\u001B[43m,\u001B[49m\u001B[43m \u001B[49m\u001B[43moptimizer\u001B[49m\u001B[43m,\u001B[49m\u001B[43m \u001B[49m\u001B[43mepoch\u001B[49m\u001B[43m)\u001B[49m\n",
      "Cell \u001B[1;32mIn[124], line 17\u001B[0m, in \u001B[0;36mtrain\u001B[1;34m(model, train_loader, optimizer, epoch)\u001B[0m\n\u001B[0;32m     15\u001B[0m \u001B[38;5;66;03m# 打印训练信息\u001B[39;00m\n\u001B[0;32m     16\u001B[0m \u001B[38;5;28;01mif\u001B[39;00m batch_idx \u001B[38;5;241m%\u001B[39m \u001B[38;5;241m1\u001B[39m \u001B[38;5;241m==\u001B[39m \u001B[38;5;241m0\u001B[39m:\n\u001B[1;32m---> 17\u001B[0m     \u001B[38;5;28mprint\u001B[39m(\u001B[38;5;124;43m'\u001B[39;49m\u001B[38;5;124;43mEpoch: \u001B[39;49m\u001B[38;5;132;43;01m{}\u001B[39;49;00m\u001B[38;5;124;43m, Batch: \u001B[39;49m\u001B[38;5;132;43;01m{}\u001B[39;49;00m\u001B[38;5;124;43m, Loss: \u001B[39;49m\u001B[38;5;132;43;01m{:.4f}\u001B[39;49;00m\u001B[38;5;124;43m'\u001B[39;49m\u001B[38;5;241;43m.\u001B[39;49m\u001B[43mformat\u001B[49m\u001B[43m(\u001B[49m\n\u001B[0;32m     18\u001B[0m \u001B[43m        \u001B[49m\u001B[43mepoch\u001B[49m\u001B[43m,\u001B[49m\u001B[43m \u001B[49m\u001B[43mbatch_idx\u001B[49m\u001B[43m,\u001B[49m\u001B[43m \u001B[49m\u001B[43mloss\u001B[49m\u001B[38;5;241;43m.\u001B[39;49m\u001B[43mitem\u001B[49m\u001B[43m(\u001B[49m\u001B[43m)\u001B[49m\u001B[43m)\u001B[49m)\n",
      "\u001B[1;31mKeyboardInterrupt\u001B[0m: "
     ]
    }
   ],
   "source": [
    "for epoch in range(5):\n",
    "    train(model, train_loader, optimizer, epoch)"
   ],
   "metadata": {
    "collapsed": false
   }
  },
  {
   "cell_type": "code",
   "execution_count": 20,
   "outputs": [
    {
     "data": {
      "text/plain": "<Figure size 640x480 with 4 Axes>",
      "image/png": "[encoded data removed]"
     },
     "metadata": {},
     "output_type": "display_data"
    }
   ],
   "source": [
    "from PIL import Image\n",
    "\n",
    "# 加载图像\n",
    "image = Image.open(\"14_493.jpg\")\n",
    "imagec= Image.open(\"14_495.jpg\")\n",
    "img_l = image.convert(\"L\")\n",
    "# 镜像翻转\n",
    "mirror_image = image.transpose(Image.FLIP_LEFT_RIGHT)\n",
    "\n",
    "\n",
    "fig, axes = plt.subplots(1,4)\n",
    "axes[0].imshow(imagec)\n",
    "axes[1].imshow(image)\n",
    "axes[2].imshow(mirror_image)\n",
    "axes[3].imshow(img_l)\n",
    "plt.show()\n"
   ],
   "metadata": {
    "collapsed": false
   }
  },
  {
   "cell_type": "code",
   "execution_count": null,
   "outputs": [],
   "source": [],
   "metadata": {
    "collapsed": false
   }
  }
 ],
 "metadata": {
  "kernelspec": {
   "display_name": "Python 3",
   "language": "python",
   "name": "python3"
  },
  "language_info": {
   "codemirror_mode": {
    "name": "ipython",
    "version": 2
   },
   "file_extension": ".py",
   "mimetype": "text/x-python",
   "name": "python",
   "nbconvert_exporter": "python",
   "pygments_lexer": "ipython2",
   "version": "2.7.6"
  }
 },
 "nbformat": 4,
 "nbformat_minor": 0
}
